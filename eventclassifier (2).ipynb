{
  "cells": [
    {
      "cell_type": "code",
      "execution_count": null,
      "metadata": {
        "id": "aBSYBmNqo6YO"
      },
      "outputs": [],
      "source": [
        "import pandas as pd\n",
        "import numpy as np\n",
        "import re\n",
        "import nltk\n",
        "from nltk.corpus import stopwords\n",
        "from nltk.stem import WordNetLemmatizer\n",
        "from nltk.stem.porter import PorterStemmer\n",
        "from sklearn.feature_extraction.text import TfidfVectorizer\n",
        "from sklearn.ensemble import RandomForestClassifier\n",
        "from sklearn.metrics import accuracy_score\n",
        "from sklearn.model_selection import train_test_split\n",
        "from sklearn.model_selection import cross_val_score\n",
        "from sklearn.metrics import f1_score,recall_score,accuracy_score,precision_score,confusion_matrix\n",
        "from sklearn.metrics import confusion_matrix,classification_report\n",
        "\n",
        "import xgboost as xgb\n",
        "from sklearn.metrics import accuracy_score\n"
      ]
    },
    {
      "cell_type": "code",
      "execution_count": null,
      "metadata": {
        "colab": {
          "base_uri": "https://localhost:8080/",
          "height": 206
        },
        "id": "cE-cc_u3o6YR",
        "outputId": "16ea687b-5fdc-4975-a0d8-fd1b7eb8f426"
      },
      "outputs": [
        {
          "output_type": "execute_result",
          "data": {
            "text/plain": [
              "   C1                                               Text Label  label_id\n",
              "0   0  Previously , the joint venture had appeared in...  Debt         0\n",
              "1   1  It has an untapped debt facility of more than ...  Debt         0\n",
              "2   2  The SFR deal will allow Vodafone to pay down d...  Debt         0\n",
              "3   3  Restating its books for September last year , ...  Debt         0\n",
              "4   4  Group net debt was lower than expected , thank...  Debt         0"
            ],
            "text/html": [
              "\n",
              "  <div id=\"df-8271dddd-2f76-43b3-b342-938b73a88361\">\n",
              "    <div class=\"colab-df-container\">\n",
              "      <div>\n",
              "<style scoped>\n",
              "    .dataframe tbody tr th:only-of-type {\n",
              "        vertical-align: middle;\n",
              "    }\n",
              "\n",
              "    .dataframe tbody tr th {\n",
              "        vertical-align: top;\n",
              "    }\n",
              "\n",
              "    .dataframe thead th {\n",
              "        text-align: right;\n",
              "    }\n",
              "</style>\n",
              "<table border=\"1\" class=\"dataframe\">\n",
              "  <thead>\n",
              "    <tr style=\"text-align: right;\">\n",
              "      <th></th>\n",
              "      <th>C1</th>\n",
              "      <th>Text</th>\n",
              "      <th>Label</th>\n",
              "      <th>label_id</th>\n",
              "    </tr>\n",
              "  </thead>\n",
              "  <tbody>\n",
              "    <tr>\n",
              "      <th>0</th>\n",
              "      <td>0</td>\n",
              "      <td>Previously , the joint venture had appeared in...</td>\n",
              "      <td>Debt</td>\n",
              "      <td>0</td>\n",
              "    </tr>\n",
              "    <tr>\n",
              "      <th>1</th>\n",
              "      <td>1</td>\n",
              "      <td>It has an untapped debt facility of more than ...</td>\n",
              "      <td>Debt</td>\n",
              "      <td>0</td>\n",
              "    </tr>\n",
              "    <tr>\n",
              "      <th>2</th>\n",
              "      <td>2</td>\n",
              "      <td>The SFR deal will allow Vodafone to pay down d...</td>\n",
              "      <td>Debt</td>\n",
              "      <td>0</td>\n",
              "    </tr>\n",
              "    <tr>\n",
              "      <th>3</th>\n",
              "      <td>3</td>\n",
              "      <td>Restating its books for September last year , ...</td>\n",
              "      <td>Debt</td>\n",
              "      <td>0</td>\n",
              "    </tr>\n",
              "    <tr>\n",
              "      <th>4</th>\n",
              "      <td>4</td>\n",
              "      <td>Group net debt was lower than expected , thank...</td>\n",
              "      <td>Debt</td>\n",
              "      <td>0</td>\n",
              "    </tr>\n",
              "  </tbody>\n",
              "</table>\n",
              "</div>\n",
              "      <button class=\"colab-df-convert\" onclick=\"convertToInteractive('df-8271dddd-2f76-43b3-b342-938b73a88361')\"\n",
              "              title=\"Convert this dataframe to an interactive table.\"\n",
              "              style=\"display:none;\">\n",
              "        \n",
              "  <svg xmlns=\"http://www.w3.org/2000/svg\" height=\"24px\"viewBox=\"0 0 24 24\"\n",
              "       width=\"24px\">\n",
              "    <path d=\"M0 0h24v24H0V0z\" fill=\"none\"/>\n",
              "    <path d=\"M18.56 5.44l.94 2.06.94-2.06 2.06-.94-2.06-.94-.94-2.06-.94 2.06-2.06.94zm-11 1L8.5 8.5l.94-2.06 2.06-.94-2.06-.94L8.5 2.5l-.94 2.06-2.06.94zm10 10l.94 2.06.94-2.06 2.06-.94-2.06-.94-.94-2.06-.94 2.06-2.06.94z\"/><path d=\"M17.41 7.96l-1.37-1.37c-.4-.4-.92-.59-1.43-.59-.52 0-1.04.2-1.43.59L10.3 9.45l-7.72 7.72c-.78.78-.78 2.05 0 2.83L4 21.41c.39.39.9.59 1.41.59.51 0 1.02-.2 1.41-.59l7.78-7.78 2.81-2.81c.8-.78.8-2.07 0-2.86zM5.41 20L4 18.59l7.72-7.72 1.47 1.35L5.41 20z\"/>\n",
              "  </svg>\n",
              "      </button>\n",
              "      \n",
              "  <style>\n",
              "    .colab-df-container {\n",
              "      display:flex;\n",
              "      flex-wrap:wrap;\n",
              "      gap: 12px;\n",
              "    }\n",
              "\n",
              "    .colab-df-convert {\n",
              "      background-color: #E8F0FE;\n",
              "      border: none;\n",
              "      border-radius: 50%;\n",
              "      cursor: pointer;\n",
              "      display: none;\n",
              "      fill: #1967D2;\n",
              "      height: 32px;\n",
              "      padding: 0 0 0 0;\n",
              "      width: 32px;\n",
              "    }\n",
              "\n",
              "    .colab-df-convert:hover {\n",
              "      background-color: #E2EBFA;\n",
              "      box-shadow: 0px 1px 2px rgba(60, 64, 67, 0.3), 0px 1px 3px 1px rgba(60, 64, 67, 0.15);\n",
              "      fill: #174EA6;\n",
              "    }\n",
              "\n",
              "    [theme=dark] .colab-df-convert {\n",
              "      background-color: #3B4455;\n",
              "      fill: #D2E3FC;\n",
              "    }\n",
              "\n",
              "    [theme=dark] .colab-df-convert:hover {\n",
              "      background-color: #434B5C;\n",
              "      box-shadow: 0px 1px 3px 1px rgba(0, 0, 0, 0.15);\n",
              "      filter: drop-shadow(0px 1px 2px rgba(0, 0, 0, 0.3));\n",
              "      fill: #FFFFFF;\n",
              "    }\n",
              "  </style>\n",
              "\n",
              "      <script>\n",
              "        const buttonEl =\n",
              "          document.querySelector('#df-8271dddd-2f76-43b3-b342-938b73a88361 button.colab-df-convert');\n",
              "        buttonEl.style.display =\n",
              "          google.colab.kernel.accessAllowed ? 'block' : 'none';\n",
              "\n",
              "        async function convertToInteractive(key) {\n",
              "          const element = document.querySelector('#df-8271dddd-2f76-43b3-b342-938b73a88361');\n",
              "          const dataTable =\n",
              "            await google.colab.kernel.invokeFunction('convertToInteractive',\n",
              "                                                     [key], {});\n",
              "          if (!dataTable) return;\n",
              "\n",
              "          const docLinkHtml = 'Like what you see? Visit the ' +\n",
              "            '<a target=\"_blank\" href=https://colab.research.google.com/notebooks/data_table.ipynb>data table notebook</a>'\n",
              "            + ' to learn more about interactive tables.';\n",
              "          element.innerHTML = '';\n",
              "          dataTable['output_type'] = 'display_data';\n",
              "          await google.colab.output.renderOutput(dataTable, element);\n",
              "          const docLink = document.createElement('div');\n",
              "          docLink.innerHTML = docLinkHtml;\n",
              "          element.appendChild(docLink);\n",
              "        }\n",
              "      </script>\n",
              "    </div>\n",
              "  </div>\n",
              "  "
            ]
          },
          "metadata": {},
          "execution_count": 2
        }
      ],
      "source": [
        "df = pd.read_csv(\"/content/Final_set.csv\")\n",
        "df.head()"
      ]
    },
    {
      "cell_type": "code",
      "execution_count": null,
      "metadata": {
        "colab": {
          "base_uri": "https://localhost:8080/"
        },
        "id": "evl7Nq0fo6YU",
        "outputId": "16b65f70-1008-4d87-895f-a9fd2f5a1c63"
      },
      "outputs": [
        {
          "output_type": "stream",
          "name": "stdout",
          "text": [
            "<class 'pandas.core.frame.DataFrame'>\n",
            "RangeIndex: 10354 entries, 0 to 10353\n",
            "Data columns (total 4 columns):\n",
            " #   Column    Non-Null Count  Dtype \n",
            "---  ------    --------------  ----- \n",
            " 0   C1        10354 non-null  int64 \n",
            " 1   Text      10354 non-null  object\n",
            " 2   Label     10354 non-null  object\n",
            " 3   label_id  10354 non-null  int64 \n",
            "dtypes: int64(2), object(2)\n",
            "memory usage: 323.7+ KB\n"
          ]
        }
      ],
      "source": [
        "df.info()"
      ]
    },
    {
      "cell_type": "code",
      "execution_count": null,
      "metadata": {
        "colab": {
          "base_uri": "https://localhost:8080/",
          "height": 424
        },
        "id": "NIc2KvLro6YV",
        "outputId": "66eda2b9-4ca7-442c-9b7e-197964a8e1b0"
      },
      "outputs": [
        {
          "output_type": "execute_result",
          "data": {
            "text/plain": [
              "                                                    Text    Label  label_id\n",
              "0      Previously , the joint venture had appeared in...     Debt         0\n",
              "1      It has an untapped debt facility of more than ...     Debt         0\n",
              "2      The SFR deal will allow Vodafone to pay down d...     Debt         0\n",
              "3      Restating its books for September last year , ...     Debt         0\n",
              "4      Group net debt was lower than expected , thank...     Debt         0\n",
              "...                                                  ...      ...       ...\n",
              "10349  While Wal-Mart was never in danger of going ou...  unknown        13\n",
              "10350  The program requires a valid electronic benefi...  unknown        13\n",
              "10351                                This wo n't be easy  unknown        13\n",
              "10352  The presence of Lore , who has shown he knows ...  unknown        13\n",
              "10353  Amazon has shown a willingness to make that so...  unknown        13\n",
              "\n",
              "[10354 rows x 3 columns]"
            ],
            "text/html": [
              "\n",
              "  <div id=\"df-e506b6a3-0059-454c-b5d6-ed27d57e676c\">\n",
              "    <div class=\"colab-df-container\">\n",
              "      <div>\n",
              "<style scoped>\n",
              "    .dataframe tbody tr th:only-of-type {\n",
              "        vertical-align: middle;\n",
              "    }\n",
              "\n",
              "    .dataframe tbody tr th {\n",
              "        vertical-align: top;\n",
              "    }\n",
              "\n",
              "    .dataframe thead th {\n",
              "        text-align: right;\n",
              "    }\n",
              "</style>\n",
              "<table border=\"1\" class=\"dataframe\">\n",
              "  <thead>\n",
              "    <tr style=\"text-align: right;\">\n",
              "      <th></th>\n",
              "      <th>Text</th>\n",
              "      <th>Label</th>\n",
              "      <th>label_id</th>\n",
              "    </tr>\n",
              "  </thead>\n",
              "  <tbody>\n",
              "    <tr>\n",
              "      <th>0</th>\n",
              "      <td>Previously , the joint venture had appeared in...</td>\n",
              "      <td>Debt</td>\n",
              "      <td>0</td>\n",
              "    </tr>\n",
              "    <tr>\n",
              "      <th>1</th>\n",
              "      <td>It has an untapped debt facility of more than ...</td>\n",
              "      <td>Debt</td>\n",
              "      <td>0</td>\n",
              "    </tr>\n",
              "    <tr>\n",
              "      <th>2</th>\n",
              "      <td>The SFR deal will allow Vodafone to pay down d...</td>\n",
              "      <td>Debt</td>\n",
              "      <td>0</td>\n",
              "    </tr>\n",
              "    <tr>\n",
              "      <th>3</th>\n",
              "      <td>Restating its books for September last year , ...</td>\n",
              "      <td>Debt</td>\n",
              "      <td>0</td>\n",
              "    </tr>\n",
              "    <tr>\n",
              "      <th>4</th>\n",
              "      <td>Group net debt was lower than expected , thank...</td>\n",
              "      <td>Debt</td>\n",
              "      <td>0</td>\n",
              "    </tr>\n",
              "    <tr>\n",
              "      <th>...</th>\n",
              "      <td>...</td>\n",
              "      <td>...</td>\n",
              "      <td>...</td>\n",
              "    </tr>\n",
              "    <tr>\n",
              "      <th>10349</th>\n",
              "      <td>While Wal-Mart was never in danger of going ou...</td>\n",
              "      <td>unknown</td>\n",
              "      <td>13</td>\n",
              "    </tr>\n",
              "    <tr>\n",
              "      <th>10350</th>\n",
              "      <td>The program requires a valid electronic benefi...</td>\n",
              "      <td>unknown</td>\n",
              "      <td>13</td>\n",
              "    </tr>\n",
              "    <tr>\n",
              "      <th>10351</th>\n",
              "      <td>This wo n't be easy</td>\n",
              "      <td>unknown</td>\n",
              "      <td>13</td>\n",
              "    </tr>\n",
              "    <tr>\n",
              "      <th>10352</th>\n",
              "      <td>The presence of Lore , who has shown he knows ...</td>\n",
              "      <td>unknown</td>\n",
              "      <td>13</td>\n",
              "    </tr>\n",
              "    <tr>\n",
              "      <th>10353</th>\n",
              "      <td>Amazon has shown a willingness to make that so...</td>\n",
              "      <td>unknown</td>\n",
              "      <td>13</td>\n",
              "    </tr>\n",
              "  </tbody>\n",
              "</table>\n",
              "<p>10354 rows × 3 columns</p>\n",
              "</div>\n",
              "      <button class=\"colab-df-convert\" onclick=\"convertToInteractive('df-e506b6a3-0059-454c-b5d6-ed27d57e676c')\"\n",
              "              title=\"Convert this dataframe to an interactive table.\"\n",
              "              style=\"display:none;\">\n",
              "        \n",
              "  <svg xmlns=\"http://www.w3.org/2000/svg\" height=\"24px\"viewBox=\"0 0 24 24\"\n",
              "       width=\"24px\">\n",
              "    <path d=\"M0 0h24v24H0V0z\" fill=\"none\"/>\n",
              "    <path d=\"M18.56 5.44l.94 2.06.94-2.06 2.06-.94-2.06-.94-.94-2.06-.94 2.06-2.06.94zm-11 1L8.5 8.5l.94-2.06 2.06-.94-2.06-.94L8.5 2.5l-.94 2.06-2.06.94zm10 10l.94 2.06.94-2.06 2.06-.94-2.06-.94-.94-2.06-.94 2.06-2.06.94z\"/><path d=\"M17.41 7.96l-1.37-1.37c-.4-.4-.92-.59-1.43-.59-.52 0-1.04.2-1.43.59L10.3 9.45l-7.72 7.72c-.78.78-.78 2.05 0 2.83L4 21.41c.39.39.9.59 1.41.59.51 0 1.02-.2 1.41-.59l7.78-7.78 2.81-2.81c.8-.78.8-2.07 0-2.86zM5.41 20L4 18.59l7.72-7.72 1.47 1.35L5.41 20z\"/>\n",
              "  </svg>\n",
              "      </button>\n",
              "      \n",
              "  <style>\n",
              "    .colab-df-container {\n",
              "      display:flex;\n",
              "      flex-wrap:wrap;\n",
              "      gap: 12px;\n",
              "    }\n",
              "\n",
              "    .colab-df-convert {\n",
              "      background-color: #E8F0FE;\n",
              "      border: none;\n",
              "      border-radius: 50%;\n",
              "      cursor: pointer;\n",
              "      display: none;\n",
              "      fill: #1967D2;\n",
              "      height: 32px;\n",
              "      padding: 0 0 0 0;\n",
              "      width: 32px;\n",
              "    }\n",
              "\n",
              "    .colab-df-convert:hover {\n",
              "      background-color: #E2EBFA;\n",
              "      box-shadow: 0px 1px 2px rgba(60, 64, 67, 0.3), 0px 1px 3px 1px rgba(60, 64, 67, 0.15);\n",
              "      fill: #174EA6;\n",
              "    }\n",
              "\n",
              "    [theme=dark] .colab-df-convert {\n",
              "      background-color: #3B4455;\n",
              "      fill: #D2E3FC;\n",
              "    }\n",
              "\n",
              "    [theme=dark] .colab-df-convert:hover {\n",
              "      background-color: #434B5C;\n",
              "      box-shadow: 0px 1px 3px 1px rgba(0, 0, 0, 0.15);\n",
              "      filter: drop-shadow(0px 1px 2px rgba(0, 0, 0, 0.3));\n",
              "      fill: #FFFFFF;\n",
              "    }\n",
              "  </style>\n",
              "\n",
              "      <script>\n",
              "        const buttonEl =\n",
              "          document.querySelector('#df-e506b6a3-0059-454c-b5d6-ed27d57e676c button.colab-df-convert');\n",
              "        buttonEl.style.display =\n",
              "          google.colab.kernel.accessAllowed ? 'block' : 'none';\n",
              "\n",
              "        async function convertToInteractive(key) {\n",
              "          const element = document.querySelector('#df-e506b6a3-0059-454c-b5d6-ed27d57e676c');\n",
              "          const dataTable =\n",
              "            await google.colab.kernel.invokeFunction('convertToInteractive',\n",
              "                                                     [key], {});\n",
              "          if (!dataTable) return;\n",
              "\n",
              "          const docLinkHtml = 'Like what you see? Visit the ' +\n",
              "            '<a target=\"_blank\" href=https://colab.research.google.com/notebooks/data_table.ipynb>data table notebook</a>'\n",
              "            + ' to learn more about interactive tables.';\n",
              "          element.innerHTML = '';\n",
              "          dataTable['output_type'] = 'display_data';\n",
              "          await google.colab.output.renderOutput(dataTable, element);\n",
              "          const docLink = document.createElement('div');\n",
              "          docLink.innerHTML = docLinkHtml;\n",
              "          element.appendChild(docLink);\n",
              "        }\n",
              "      </script>\n",
              "    </div>\n",
              "  </div>\n",
              "  "
            ]
          },
          "metadata": {},
          "execution_count": 4
        }
      ],
      "source": [
        "df = df.drop(columns = 'C1',axis =1)\n",
        "df"
      ]
    },
    {
      "cell_type": "code",
      "execution_count": null,
      "metadata": {
        "id": "DNHnXdG7o6YV"
      },
      "outputs": [],
      "source": [
        "x = df.drop(columns = 'label_id' ,axis = 1)\n",
        "y = df[\"label_id\"]"
      ]
    },
    {
      "cell_type": "code",
      "execution_count": null,
      "metadata": {
        "id": "taPbuur4o6YW"
      },
      "outputs": [],
      "source": [
        "ps = PorterStemmer()\n"
      ]
    },
    {
      "cell_type": "code",
      "execution_count": null,
      "metadata": {
        "id": "hURBREZWo6YX"
      },
      "outputs": [],
      "source": [
        "def stemming(Text): #function called as stemming\n",
        "    stemmed_content = re.sub(\"[^a-zA-Z]\",\" \",Text)\n",
        "    stemmed_content = stemmed_content.lower()\n",
        "    stemmed_content = stemmed_content.split()\n",
        "    stemmed_content = [ps.stem(word) for word in stemmed_content if not word in stopwords.words(\"english\")]\n",
        "    stemmed_content = \" \".join(stemmed_content)\n",
        "    return stemmed_content\n",
        ""
      ]
    },
    {
      "cell_type": "code",
      "execution_count": null,
      "metadata": {
        "colab": {
          "base_uri": "https://localhost:8080/"
        },
        "id": "Obzt-ZVeo6YY",
        "outputId": "b7d65c09-cd4d-49b0-b7c7-9e1cedd4224c"
      },
      "outputs": [
        {
          "output_type": "stream",
          "name": "stderr",
          "text": [
            "[nltk_data] Downloading package stopwords to /root/nltk_data...\n",
            "[nltk_data]   Unzipping corpora/stopwords.zip.\n"
          ]
        }
      ],
      "source": [
        "nltk.download('stopwords')\n",
        "df[\"Text\"] = df[\"Text\"].apply(stemming)"
      ]
    },
    {
      "cell_type": "code",
      "execution_count": null,
      "metadata": {
        "colab": {
          "base_uri": "https://localhost:8080/"
        },
        "id": "hnG79HCeo6YZ",
        "outputId": "4feea5fb-f8cd-4e7a-a03a-63485cf283a7"
      },
      "outputs": [
        {
          "output_type": "stream",
          "name": "stdout",
          "text": [
            "0        previous joint ventur appear account per cent ...\n",
            "1        untap debt facil pound bn use buy market recov...\n",
            "2        sfr deal allow vodafon pay debt accord merril ...\n",
            "3        restat book septemb last year mobil phone oper...\n",
            "4        group net debt lower expect thank properti dis...\n",
            "                               ...                        \n",
            "10349    wal mart never danger go busi n address digit ...\n",
            "10350    program requir valid electron benefit transfer...\n",
            "10351                                            wo n easi\n",
            "10352    presenc lore shown know take amazon give wal m...\n",
            "10353    amazon shown willing make sort sacrific wal ma...\n",
            "Name: Text, Length: 10354, dtype: object\n"
          ]
        }
      ],
      "source": [
        "print(df[\"Text\"])"
      ]
    },
    {
      "cell_type": "code",
      "execution_count": null,
      "metadata": {
        "id": "YTb8FalMo6YZ"
      },
      "outputs": [],
      "source": [
        "wordnetlemmatizer = WordNetLemmatizer()"
      ]
    },
    {
      "cell_type": "code",
      "execution_count": null,
      "metadata": {
        "id": "dSSIiKPyo6Ya"
      },
      "outputs": [],
      "source": [
        "def lemmatizer(Text): #function called as stemming\n",
        "    stemmed_content = re.sub(\"[^a-zA-Z]\",\" \",Text)\n",
        "    stemmed_content = stemmed_content.lower()\n",
        "    stemmed_content = stemmed_content.split()\n",
        "    stemmed_content = [wordnetlemmatizer.lemmatize(word) for word in stemmed_content if not word in stopwords.words(\"english\")]\n",
        "    stemmed_content = \" \".join(stemmed_content)\n",
        "    return stemmed_content"
      ]
    },
    {
      "cell_type": "code",
      "execution_count": null,
      "metadata": {
        "colab": {
          "base_uri": "https://localhost:8080/"
        },
        "id": "qv6ounNvo6Yb",
        "outputId": "350b396a-cd6c-4b6b-d24d-07a070b05a3c"
      },
      "outputs": [
        {
          "output_type": "stream",
          "name": "stderr",
          "text": [
            "[nltk_data] Downloading package wordnet to /root/nltk_data...\n"
          ]
        }
      ],
      "source": [
        " nltk.download('wordnet')\n",
        "df[\"Text\"] = df[\"Text\"].apply(lemmatizer)"
      ]
    },
    {
      "cell_type": "code",
      "execution_count": null,
      "metadata": {
        "id": "ZApTQ6cko6Yc"
      },
      "outputs": [],
      "source": [
        "x = df[\"Text\"].values\n",
        "y = df[\"label_id\"].values"
      ]
    },
    {
      "cell_type": "code",
      "execution_count": null,
      "metadata": {
        "id": "0fWaNKBOo6Yc"
      },
      "outputs": [],
      "source": [
        "vectorizer  =TfidfVectorizer()\n",
        "vectorizer.fit(x)\n",
        "x = vectorizer.transform(x)\n"
      ]
    },
    {
      "cell_type": "code",
      "execution_count": null,
      "metadata": {
        "colab": {
          "base_uri": "https://localhost:8080/"
        },
        "id": "01h9uQV4o6Yd",
        "outputId": "8eab0794-4f7e-4cca-dbb5-24c8edfc5625"
      },
      "outputs": [
        {
          "output_type": "stream",
          "name": "stdout",
          "text": [
            "  (0, 8994)\t0.14473777242868666\n",
            "  (0, 8906)\t0.19764543577531074\n",
            "  (0, 8526)\t0.2440016047972009\n",
            "  (0, 7920)\t0.2600336649953867\n",
            "  (0, 6736)\t0.3088681252148601\n",
            "  (0, 6562)\t0.2276914653455888\n",
            "  (0, 6412)\t0.24591054118410252\n",
            "  (0, 6110)\t0.10634558465291906\n",
            "  (0, 6018)\t0.22060724190004857\n",
            "  (0, 5562)\t0.15206980090466582\n",
            "  (0, 5544)\t0.19845745563085873\n",
            "  (0, 5109)\t0.2662507665600595\n",
            "  (0, 4376)\t0.2095305245362347\n",
            "  (0, 3795)\t0.18282431513011094\n",
            "  (0, 2584)\t0.2308207110663759\n",
            "  (0, 2097)\t0.18391898523116162\n",
            "  (0, 1350)\t0.10799362559069187\n",
            "  (0, 774)\t0.31460501237138666\n",
            "  (0, 508)\t0.19985148003387834\n",
            "  (0, 411)\t0.23017345822581012\n",
            "  (0, 53)\t0.20916386048396102\n",
            "  (1, 8848)\t0.2018479639444494\n",
            "  (1, 8796)\t0.36471486739436426\n",
            "  (1, 8762)\t0.3416759463982313\n",
            "  (1, 6746)\t0.28610057548688306\n",
            "  :\t:\n",
            "  (10352, 6996)\t0.3230094175274162\n",
            "  (10352, 6394)\t0.3070492188341035\n",
            "  (10352, 5037)\t0.27901910787764594\n",
            "  (10352, 4857)\t0.3230094175274162\n",
            "  (10352, 4533)\t0.26552268878801105\n",
            "  (10352, 3491)\t0.21065442716472588\n",
            "  (10352, 3452)\t0.2351518619870205\n",
            "  (10352, 1397)\t0.2938577198452889\n",
            "  (10352, 291)\t0.22100084587455937\n",
            "  (10353, 9212)\t0.2925872376546363\n",
            "  (10353, 9042)\t0.2432122887331131\n",
            "  (10353, 8288)\t0.37280375427196405\n",
            "  (10353, 8028)\t0.2432122887331131\n",
            "  (10353, 8020)\t0.21698857442280747\n",
            "  (10353, 7688)\t0.29686927197420476\n",
            "  (10353, 7473)\t0.26178349332205164\n",
            "  (10353, 7458)\t0.21361546924979133\n",
            "  (10353, 7143)\t0.31395638184139635\n",
            "  (10353, 5960)\t0.27166971756359515\n",
            "  (10353, 5078)\t0.16709793923536645\n",
            "  (10353, 5037)\t0.24119203166933353\n",
            "  (10353, 4971)\t0.1676136255012843\n",
            "  (10353, 4845)\t0.18618483009022285\n",
            "  (10353, 1117)\t0.22361692424447854\n",
            "  (10353, 291)\t0.1910394002137684\n"
          ]
        }
      ],
      "source": [
        "print(x)"
      ]
    },
    {
      "cell_type": "code",
      "execution_count": null,
      "metadata": {
        "id": "9uUDqtX6o6Yd"
      },
      "outputs": [],
      "source": [
        "def split_data(x, y, test_size=0.2, random_state=42):\n",
        "    # Split the data into training and testing sets\n",
        "    x_train, x_test, y_train, y_test = train_test_split(x, y, test_size=test_size, random_state=random_state)\n",
        "\n",
        "    return x_train, x_test, y_train, y_test"
      ]
    },
    {
      "cell_type": "code",
      "execution_count": null,
      "metadata": {
        "id": "hrmGdAwYo6Ye"
      },
      "outputs": [],
      "source": [
        "x_train,x_test,y_train,y_test = train_test_split(x,y,test_size =0.2 ,random_state = 42)"
      ]
    },
    {
      "cell_type": "code",
      "execution_count": null,
      "metadata": {
        "colab": {
          "base_uri": "https://localhost:8080/"
        },
        "id": "8eDQODVko6Yf",
        "outputId": "890c7990-86f8-4d5b-d16c-9f770ad12192"
      },
      "outputs": [
        {
          "output_type": "execute_result",
          "data": {
            "text/plain": [
              "(RandomForestClassifier(max_depth=20),\n",
              " array([0.62530179, 0.6088846 , 0.59439884, 0.51279575, 0.51449275]))"
            ]
          },
          "metadata": {},
          "execution_count": 20
        }
      ],
      "source": [
        "def random_forest_classifier_cv(x_train, y_train, cv=5, n_estimators=100, max_depth=2):\n",
        "    global clf,scores\n",
        "    clf = RandomForestClassifier(n_estimators=n_estimators, max_depth=max_depth)\n",
        "    scores = cross_val_score(clf, x, y, cv=cv)\n",
        "    clf.fit(x_train, y_train)\n",
        "\n",
        "    return clf, scores\n",
        "random_forest_classifier_cv(x_train, y_train, cv=5, n_estimators=100, max_depth=20)\n",
        "\n"
      ]
    },
    {
      "cell_type": "code",
      "execution_count": null,
      "metadata": {
        "id": "oPkpfqbbo6Yg"
      },
      "outputs": [],
      "source": [
        "x_train_pred = clf.predict(x_train)\n",
        "training_data_acc = accuracy_score(x_train_pred,y_train)"
      ]
    },
    {
      "cell_type": "code",
      "execution_count": null,
      "metadata": {
        "colab": {
          "base_uri": "https://localhost:8080/"
        },
        "id": "z-O-EfYwo6Yg",
        "outputId": "14229082-401d-45dd-85ee-fcf391b02eab"
      },
      "outputs": [
        {
          "output_type": "stream",
          "name": "stdout",
          "text": [
            "training acuuracy is : 0.6111312326451769\n"
          ]
        }
      ],
      "source": [
        "print(\"training acuuracy is :\",training_data_acc)"
      ]
    },
    {
      "cell_type": "code",
      "execution_count": null,
      "metadata": {
        "id": "tBEz29u7o6Yh"
      },
      "outputs": [],
      "source": [
        "x_test_pred = clf.predict(x_test)\n",
        "testing_data_acc  = accuracy_score(x_test_pred,y_test)"
      ]
    },
    {
      "cell_type": "code",
      "execution_count": null,
      "metadata": {
        "colab": {
          "base_uri": "https://localhost:8080/"
        },
        "id": "4DNaQgKRo6Yi",
        "outputId": "9a1c5327-f676-443f-ba2b-7d34b06e8c65"
      },
      "outputs": [
        {
          "output_type": "stream",
          "name": "stdout",
          "text": [
            "testing acuuracy is : 0.570738773539353\n"
          ]
        }
      ],
      "source": [
        "print(\"testing acuuracy is :\",testing_data_acc)\n"
      ]
    },
    {
      "cell_type": "code",
      "execution_count": null,
      "metadata": {
        "colab": {
          "base_uri": "https://localhost:8080/"
        },
        "id": "LN-v6nu-o6Yj",
        "outputId": "e668287c-c95e-4d37-d210-b505e970d62c"
      },
      "outputs": [
        {
          "output_type": "stream",
          "name": "stdout",
          "text": [
            "confusion matrix\n",
            " [[   0    0    0    0    0    0    0    0    0    0    0    0    0   16]\n",
            " [   0    1    0    3    0    0    0    0    0    0    0    0    0   43]\n",
            " [   0    0    0    0    0    0    0    0    0    0    0    0    0   31]\n",
            " [   0    0    0  162    0    0    0    0    0    0    0    0    0  266]\n",
            " [   0    0    0    0    0    0    0    0    0    0    0    0    0   32]\n",
            " [   0    0    0    0    0    2    0    0    0    0    0    0    0   32]\n",
            " [   0    0    0    0    0    0    0    0    0    0    0    0    0   81]\n",
            " [   0    0    0    0    0    0    0    0    0    0    0    0    0   84]\n",
            " [   0    0    0    0    0    0    0    0    4    0    0    0    0   85]\n",
            " [   0    0    0    0    0    0    0    0    0    0    0    0    0   92]\n",
            " [   0    0    0    0    0    0    0    0    0    0    4    0    0   79]\n",
            " [   0    0    0    8    0    0    0    0    0    0    0    0    0   19]\n",
            " [   0    0    0    0    0    0    0    0    0    0    0    0    0    9]\n",
            " [   0    0    0    8    0    0    0    0    0    0    1    0    0 1009]]\n",
            "********************\n",
            "accuracy 0.570738773539353\n",
            "********************\n",
            "classificatio report\n",
            "               precision    recall  f1-score   support\n",
            "\n",
            "           0       0.00      0.00      0.00        16\n",
            "           1       1.00      0.02      0.04        47\n",
            "           2       0.00      0.00      0.00        31\n",
            "           3       0.90      0.38      0.53       428\n",
            "           4       0.00      0.00      0.00        32\n",
            "           5       1.00      0.06      0.11        34\n",
            "           6       0.00      0.00      0.00        81\n",
            "           7       0.00      0.00      0.00        84\n",
            "           8       1.00      0.04      0.09        89\n",
            "           9       0.00      0.00      0.00        92\n",
            "          10       0.80      0.05      0.09        83\n",
            "          11       0.00      0.00      0.00        27\n",
            "          12       0.00      0.00      0.00         9\n",
            "          13       0.54      0.99      0.70      1018\n",
            "\n",
            "    accuracy                           0.57      2071\n",
            "   macro avg       0.37      0.11      0.11      2071\n",
            "weighted avg       0.56      0.57      0.46      2071\n",
            "\n"
          ]
        },
        {
          "output_type": "stream",
          "name": "stderr",
          "text": [
            "/usr/local/lib/python3.9/dist-packages/sklearn/metrics/_classification.py:1344: UndefinedMetricWarning: Precision and F-score are ill-defined and being set to 0.0 in labels with no predicted samples. Use `zero_division` parameter to control this behavior.\n",
            "  _warn_prf(average, modifier, msg_start, len(result))\n",
            "/usr/local/lib/python3.9/dist-packages/sklearn/metrics/_classification.py:1344: UndefinedMetricWarning: Precision and F-score are ill-defined and being set to 0.0 in labels with no predicted samples. Use `zero_division` parameter to control this behavior.\n",
            "  _warn_prf(average, modifier, msg_start, len(result))\n",
            "/usr/local/lib/python3.9/dist-packages/sklearn/metrics/_classification.py:1344: UndefinedMetricWarning: Precision and F-score are ill-defined and being set to 0.0 in labels with no predicted samples. Use `zero_division` parameter to control this behavior.\n",
            "  _warn_prf(average, modifier, msg_start, len(result))\n"
          ]
        }
      ],
      "source": [
        "# Testing\n",
        "y_pred = clf.predict(x_test)\n",
        "cnf_matrix = confusion_matrix(y_test,y_pred)\n",
        "print(\"confusion matrix\\n\",cnf_matrix)\n",
        "print(\"*\"*20)\n",
        "accuracy = accuracy_score(y_test,y_pred)\n",
        "print(\"accuracy\",accuracy)\n",
        "print(\"*\"*20)\n",
        "clf_report = classification_report(y_test,y_pred)\n",
        "print(\"classificatio report\\n\",clf_report)"
      ]
    },
    {
      "cell_type": "code",
      "execution_count": null,
      "metadata": {
        "colab": {
          "base_uri": "https://localhost:8080/"
        },
        "id": "U02qEH7Oo6Yk",
        "outputId": "8e7bb24e-ca4b-4bf9-d3ce-546c4d974b6e"
      },
      "outputs": [
        {
          "output_type": "stream",
          "name": "stdout",
          "text": [
            "confusion matrix\n",
            " [[   0    0    0    0    0    0    0    0    0    0    0    0    0   39]\n",
            " [   0   24    0    3    0    0    0    0    0    0    0    0    0  177]\n",
            " [   0    0    0    0    0    0    0    0    0    0    0    0    0  108]\n",
            " [   0    0    0  769    0    0    0    0    0    0    0    0    0  923]\n",
            " [   0    0    0    0    2    0    0    0    0    0    0    0    0  213]\n",
            " [   0    0    0    0    0    9    0    0    0    0    0    0    0   95]\n",
            " [   0    0    0    0    0    0    0    0    0    0    0    0    0  258]\n",
            " [   0    0    0    1    0    0    0    6    0    0    0    0    0  313]\n",
            " [   0    0    0    0    0    0    0    0   27    0    0    0    0  294]\n",
            " [   0    0    0    0    0    0    0    0    0    0    0    0    0  388]\n",
            " [   0    0    0    0    0    0    0    0    0    0   37    0    0  257]\n",
            " [   0    0    0   17    0    0    0    0    0    0    0   11    0  100]\n",
            " [   0    0    0    0    0    0    0    0    0    0    0    0    0   32]\n",
            " [   0    0    0    3    0    0    0    0    0    0    0    0    0 4177]]\n",
            "********************\n",
            "accuracy 0.6111312326451769\n",
            "********************\n",
            "classificatio report\n",
            "               precision    recall  f1-score   support\n",
            "\n",
            "           0       0.00      0.00      0.00        39\n",
            "           1       1.00      0.12      0.21       204\n",
            "           2       0.00      0.00      0.00       108\n",
            "           3       0.97      0.45      0.62      1692\n",
            "           4       1.00      0.01      0.02       215\n",
            "           5       1.00      0.09      0.16       104\n",
            "           6       0.00      0.00      0.00       258\n",
            "           7       1.00      0.02      0.04       320\n",
            "           8       1.00      0.08      0.16       321\n",
            "           9       0.00      0.00      0.00       388\n",
            "          10       1.00      0.13      0.22       294\n",
            "          11       1.00      0.09      0.16       128\n",
            "          12       0.00      0.00      0.00        32\n",
            "          13       0.57      1.00      0.72      4180\n",
            "\n",
            "    accuracy                           0.61      8283\n",
            "   macro avg       0.61      0.14      0.16      8283\n",
            "weighted avg       0.68      0.61      0.52      8283\n",
            "\n"
          ]
        },
        {
          "output_type": "stream",
          "name": "stderr",
          "text": [
            "/usr/local/lib/python3.9/dist-packages/sklearn/metrics/_classification.py:1344: UndefinedMetricWarning: Precision and F-score are ill-defined and being set to 0.0 in labels with no predicted samples. Use `zero_division` parameter to control this behavior.\n",
            "  _warn_prf(average, modifier, msg_start, len(result))\n",
            "/usr/local/lib/python3.9/dist-packages/sklearn/metrics/_classification.py:1344: UndefinedMetricWarning: Precision and F-score are ill-defined and being set to 0.0 in labels with no predicted samples. Use `zero_division` parameter to control this behavior.\n",
            "  _warn_prf(average, modifier, msg_start, len(result))\n",
            "/usr/local/lib/python3.9/dist-packages/sklearn/metrics/_classification.py:1344: UndefinedMetricWarning: Precision and F-score are ill-defined and being set to 0.0 in labels with no predicted samples. Use `zero_division` parameter to control this behavior.\n",
            "  _warn_prf(average, modifier, msg_start, len(result))\n"
          ]
        }
      ],
      "source": [
        "# Training\n",
        "y_pred_train = clf.predict(x_train)\n",
        "cnf_matrix = confusion_matrix(y_train,y_pred_train)\n",
        "print(\"confusion matrix\\n\",cnf_matrix)\n",
        "print(\"*\"*20)\n",
        "accuracy = accuracy_score(y_train,y_pred_train)\n",
        "print(\"accuracy\",accuracy)\n",
        "print(\"*\"*20)\n",
        "clf_report = classification_report(y_train,y_pred_train)\n",
        "print(\"classificatio report\\n\",clf_report)"
      ]
    },
    {
      "cell_type": "raw",
      "metadata": {
        "id": "x4YUmLZZo6Yl"
      },
      "source": [
        " \"\"\"\n",
        "    Defines and trains a Random Forest Classifier with cross-validation on the given data and parameters.\n",
        "\n",
        "    Args:\n",
        "    - X: A numpy array or pandas DataFrame of shape (n_samples, n_features), representing the data.\n",
        "    - y: A numpy array or pandas Series of shape (n_samples,), representing the target labels for the data.\n",
        "    - cv: An integer or cross-validation object representing the number of folds or cross-validation strategy to use.\n",
        "    - n_estimators: An integer representing the number of decision trees to include in the random forest.\n",
        "    - max_depth: An integer or None representing the maximum depth of each decision tree. If None, trees are fully grown.\n",
        "\n",
        "    Returns:\n",
        "    - clf: A trained Random Forest Classifier object that can be used to make predictions on new data.\n",
        "    - scores: A numpy array of shape (cv,) representing the cross-validation scores for each fold.\n",
        "    \"\"\""
      ]
    },
    {
      "cell_type": "code",
      "execution_count": null,
      "metadata": {
        "id": "b-LNqD1ao6Yl"
      },
      "outputs": [],
      "source": [
        "import xgboost as xgb\n",
        "from sklearn.metrics import accuracy_score\n",
        "from sklearn.model_selection import GridSearchCV\n",
        "\n",
        "def xgb_classifier(x_train, y_train, x_test, y_test):\n",
        "    # Define the XGBoost classifier\n",
        "    xgb_model = xgb.XGBClassifier()\n",
        "\n",
        "    # Define the hyperparameters grid\n",
        "    param_grid = {'n_estimators': [50, 100, 200],\n",
        "                  'max_depth': [3, 5, 7],\n",
        "                  'learning_rate': [0.1, 0.01]}\n",
        "\n",
        "    # Perform a grid search with cross-validation\n",
        "    grid_search = GridSearchCV(xgb_model, param_grid, cv=5)\n",
        "    grid_search.fit(x_train, y_train)\n",
        "\n",
        "    # Get the best model and make predictions on the testing data\n",
        "    best_model = grid_search.best_estimator_\n",
        "    y_pred = best_model.predict(x_test)\n",
        "\n",
        "    # Calculate accuracy score\n",
        "    accuracy = accuracy_score(y_test, y_pred)\n",
        "\n",
        "    return best_model, accuracy"
      ]
    },
    {
      "cell_type": "code",
      "execution_count": null,
      "metadata": {
        "id": "1hGTp0cXo6Ym"
      },
      "outputs": [],
      "source": [
        "best_model, accuracy = xgb_classifier(x_train, y_train, x_test, y_test)"
      ]
    },
    {
      "cell_type": "code",
      "execution_count": null,
      "metadata": {
        "id": "Asek1X4to6Ym"
      },
      "outputs": [],
      "source": [
        "x_test_pred = clf.predict(x_test)\n",
        "testing_data_acc  = accuracy_score(x_test_pred,y_test)"
      ]
    },
    {
      "cell_type": "code",
      "execution_count": null,
      "metadata": {
        "id": "YJvVyfEko6Yn"
      },
      "outputs": [],
      "source": []
    },
    {
      "cell_type": "code",
      "execution_count": null,
      "metadata": {
        "id": "tEj2V8yyo6Yn"
      },
      "outputs": [],
      "source": []
    },
    {
      "cell_type": "code",
      "execution_count": null,
      "metadata": {
        "id": "SL9q4Xb7o6Yo"
      },
      "outputs": [],
      "source": []
    },
    {
      "cell_type": "code",
      "execution_count": null,
      "metadata": {
        "id": "YfSWVodyo6Yt"
      },
      "outputs": [],
      "source": [
        "# Train the SVM model using cross-validation\n",
        "from sklearn import svm\n",
        "def svm_text_classification(x_train,y_train,c=1.0,kernel='linear',gamma='scale'):\n",
        "    global clf,scores\n",
        "    clf = Svm.SVC(C=c,kernel=kernel,gamma=gamma)\n",
        "    scores = cross_val_score(clf, x, y, cv=5)\n",
        "    clf.fit(x_train,y_train)\n",
        "    return clf,scores\n",
        "    svm_text_classification(x_train,y_train,c=1.0,kernel='linear',gamma='scale')\n",
        "\n",
        "    y_pred=clf.predict(x_test)# Predict the class labels for the test data\n",
        ""
      ]
    },
    {
      "cell_type": "code",
      "execution_count": null,
      "metadata": {
        "id": "m5fXh2eao6Yt"
      },
      "outputs": [],
      "source": [
        "x_train_pred = clf.predict(x_train)\n",
        "training_data_acc = accuracy_score(x_train_pred,y_train)"
      ]
    },
    {
      "cell_type": "code",
      "execution_count": null,
      "metadata": {
        "colab": {
          "base_uri": "https://localhost:8080/"
        },
        "id": "jJ2KmNb2o6Yu",
        "outputId": "70bc443a-6ada-490a-f7da-664b9d0cc33c"
      },
      "outputs": [
        {
          "output_type": "stream",
          "name": "stdout",
          "text": [
            "training acuuracy is : 0.6111312326451769\n"
          ]
        }
      ],
      "source": [
        "print(\"training acuuracy is :\",training_data_acc)"
      ]
    },
    {
      "cell_type": "code",
      "execution_count": null,
      "metadata": {
        "colab": {
          "base_uri": "https://localhost:8080/"
        },
        "id": "ykYyAPkvo6Yu",
        "outputId": "23b3b750-f1e8-49b5-c64a-06e4279125df"
      },
      "outputs": [
        {
          "output_type": "stream",
          "name": "stdout",
          "text": [
            "testing acuuracy is : 0.570738773539353\n"
          ]
        }
      ],
      "source": [
        "print(\"testing acuuracy is :\",testing_data_acc)\n"
      ]
    },
    {
      "cell_type": "code",
      "execution_count": null,
      "metadata": {
        "colab": {
          "base_uri": "https://localhost:8080/"
        },
        "id": "3fu-nCK6o6Yv",
        "outputId": "329a2f22-387c-4e75-f008-9a57e1930441"
      },
      "outputs": [
        {
          "output_type": "stream",
          "name": "stdout",
          "text": [
            "confusion matrix\n",
            " [[   0    0    0    0    0    0    0    0    0    0    0    0    0   16]\n",
            " [   0    1    0    3    0    0    0    0    0    0    0    0    0   43]\n",
            " [   0    0    0    0    0    0    0    0    0    0    0    0    0   31]\n",
            " [   0    0    0  162    0    0    0    0    0    0    0    0    0  266]\n",
            " [   0    0    0    0    0    0    0    0    0    0    0    0    0   32]\n",
            " [   0    0    0    0    0    2    0    0    0    0    0    0    0   32]\n",
            " [   0    0    0    0    0    0    0    0    0    0    0    0    0   81]\n",
            " [   0    0    0    0    0    0    0    0    0    0    0    0    0   84]\n",
            " [   0    0    0    0    0    0    0    0    4    0    0    0    0   85]\n",
            " [   0    0    0    0    0    0    0    0    0    0    0    0    0   92]\n",
            " [   0    0    0    0    0    0    0    0    0    0    4    0    0   79]\n",
            " [   0    0    0    8    0    0    0    0    0    0    0    0    0   19]\n",
            " [   0    0    0    0    0    0    0    0    0    0    0    0    0    9]\n",
            " [   0    0    0    8    0    0    0    0    0    0    1    0    0 1009]]\n",
            "********************\n",
            "accuracy 0.570738773539353\n",
            "********************\n",
            "classificatio report\n",
            "               precision    recall  f1-score   support\n",
            "\n",
            "           0       0.00      0.00      0.00        16\n",
            "           1       1.00      0.02      0.04        47\n",
            "           2       0.00      0.00      0.00        31\n",
            "           3       0.90      0.38      0.53       428\n",
            "           4       0.00      0.00      0.00        32\n",
            "           5       1.00      0.06      0.11        34\n",
            "           6       0.00      0.00      0.00        81\n",
            "           7       0.00      0.00      0.00        84\n",
            "           8       1.00      0.04      0.09        89\n",
            "           9       0.00      0.00      0.00        92\n",
            "          10       0.80      0.05      0.09        83\n",
            "          11       0.00      0.00      0.00        27\n",
            "          12       0.00      0.00      0.00         9\n",
            "          13       0.54      0.99      0.70      1018\n",
            "\n",
            "    accuracy                           0.57      2071\n",
            "   macro avg       0.37      0.11      0.11      2071\n",
            "weighted avg       0.56      0.57      0.46      2071\n",
            "\n"
          ]
        },
        {
          "output_type": "stream",
          "name": "stderr",
          "text": [
            "/usr/local/lib/python3.9/dist-packages/sklearn/metrics/_classification.py:1344: UndefinedMetricWarning: Precision and F-score are ill-defined and being set to 0.0 in labels with no predicted samples. Use `zero_division` parameter to control this behavior.\n",
            "  _warn_prf(average, modifier, msg_start, len(result))\n",
            "/usr/local/lib/python3.9/dist-packages/sklearn/metrics/_classification.py:1344: UndefinedMetricWarning: Precision and F-score are ill-defined and being set to 0.0 in labels with no predicted samples. Use `zero_division` parameter to control this behavior.\n",
            "  _warn_prf(average, modifier, msg_start, len(result))\n",
            "/usr/local/lib/python3.9/dist-packages/sklearn/metrics/_classification.py:1344: UndefinedMetricWarning: Precision and F-score are ill-defined and being set to 0.0 in labels with no predicted samples. Use `zero_division` parameter to control this behavior.\n",
            "  _warn_prf(average, modifier, msg_start, len(result))\n"
          ]
        }
      ],
      "source": [
        "# Testing\n",
        "y_pred = clf.predict(x_test)\n",
        "cnf_matrix = confusion_matrix(y_test,y_pred)\n",
        "print(\"confusion matrix\\n\",cnf_matrix)\n",
        "print(\"*\"*20)\n",
        "accuracy = accuracy_score(y_test,y_pred)\n",
        "print(\"accuracy\",accuracy)\n",
        "print(\"*\"*20)\n",
        "clf_report = classification_report(y_test,y_pred)\n",
        "print(\"classificatio report\\n\",clf_report)"
      ]
    },
    {
      "cell_type": "code",
      "execution_count": null,
      "metadata": {
        "id": "6pZ2eCmXo6Yv"
      },
      "outputs": [],
      "source": []
    },
    {
      "cell_type": "code",
      "execution_count": null,
      "metadata": {
        "id": "sbsieMVHo6Yv"
      },
      "outputs": [],
      "source": []
    },
    {
      "cell_type": "code",
      "execution_count": null,
      "metadata": {
        "id": "CA6NWCkJo6Yw"
      },
      "outputs": [],
      "source": [
        "# Train the Naive Bayes model using cross-validation\n",
        "from sklearn.naive_bayes import MultinomialNB\n",
        "# Define the Naive Bayes classifier object\n",
        "def text_classification_nb_cv(x_train, y_train, n_folds=5,n_estimators=100, max_depth=2):\n",
        "   global clf,scores\n",
        "   clf = MultinomialNB(n_estimators=n_estimators, max_depth=max_depth)\n",
        "   scores= cross_val_score(clf, x, y, cv=n_folds)\n",
        "   return clf, scores\n",
        "   text_classification_nb_cv(x_train, y_train, cv=5, n_estimators=100, max_depth=20)\n",
        "   clf.fit(x_train, y_train)# Train the classifier on the training data\n",
        "   y_pred = clf.predict(x_test)# Predict the class labels for the test data"
      ]
    },
    {
      "cell_type": "code",
      "execution_count": null,
      "metadata": {
        "id": "yqtvEEhHo6Yw"
      },
      "outputs": [],
      "source": [
        "x_train_pred = clf.predict(x_train)\n",
        "training_data_acc = accuracy_score(x_train_pred,y_train)"
      ]
    },
    {
      "cell_type": "code",
      "execution_count": null,
      "metadata": {
        "colab": {
          "base_uri": "https://localhost:8080/"
        },
        "id": "esVIeru2o6Yx",
        "outputId": "6741b110-b1d8-4ee5-a0c0-0f6c6a8d74c2"
      },
      "outputs": [
        {
          "output_type": "stream",
          "name": "stdout",
          "text": [
            "training acuuracy is : 0.6111312326451769\n"
          ]
        }
      ],
      "source": [
        "print(\"training acuuracy is :\",training_data_acc)"
      ]
    },
    {
      "cell_type": "code",
      "execution_count": null,
      "metadata": {
        "colab": {
          "base_uri": "https://localhost:8080/"
        },
        "id": "60MN20mEo6Yx",
        "outputId": "deb153f5-1e6b-4879-f1d8-3799d0d5cfec"
      },
      "outputs": [
        {
          "output_type": "stream",
          "name": "stdout",
          "text": [
            "testing acuuracy is : 0.570738773539353\n"
          ]
        }
      ],
      "source": [
        "print(\"testing acuuracy is :\",testing_data_acc)"
      ]
    },
    {
      "cell_type": "code",
      "execution_count": null,
      "metadata": {
        "colab": {
          "base_uri": "https://localhost:8080/"
        },
        "id": "vVDVLmt5o6Yx",
        "outputId": "87d63274-d593-4df5-efe8-090ec38e358c"
      },
      "outputs": [
        {
          "output_type": "stream",
          "name": "stdout",
          "text": [
            "confusion matrix\n",
            " [[   0    0    0    0    0    0    0    0    0    0    0    0    0   16]\n",
            " [   0    1    0    3    0    0    0    0    0    0    0    0    0   43]\n",
            " [   0    0    0    0    0    0    0    0    0    0    0    0    0   31]\n",
            " [   0    0    0  162    0    0    0    0    0    0    0    0    0  266]\n",
            " [   0    0    0    0    0    0    0    0    0    0    0    0    0   32]\n",
            " [   0    0    0    0    0    2    0    0    0    0    0    0    0   32]\n",
            " [   0    0    0    0    0    0    0    0    0    0    0    0    0   81]\n",
            " [   0    0    0    0    0    0    0    0    0    0    0    0    0   84]\n",
            " [   0    0    0    0    0    0    0    0    4    0    0    0    0   85]\n",
            " [   0    0    0    0    0    0    0    0    0    0    0    0    0   92]\n",
            " [   0    0    0    0    0    0    0    0    0    0    4    0    0   79]\n",
            " [   0    0    0    8    0    0    0    0    0    0    0    0    0   19]\n",
            " [   0    0    0    0    0    0    0    0    0    0    0    0    0    9]\n",
            " [   0    0    0    8    0    0    0    0    0    0    1    0    0 1009]]\n",
            "********************\n",
            "accuracy 0.570738773539353\n",
            "********************\n",
            "classificatio report\n",
            "               precision    recall  f1-score   support\n",
            "\n",
            "           0       0.00      0.00      0.00        16\n",
            "           1       1.00      0.02      0.04        47\n",
            "           2       0.00      0.00      0.00        31\n",
            "           3       0.90      0.38      0.53       428\n",
            "           4       0.00      0.00      0.00        32\n",
            "           5       1.00      0.06      0.11        34\n",
            "           6       0.00      0.00      0.00        81\n",
            "           7       0.00      0.00      0.00        84\n",
            "           8       1.00      0.04      0.09        89\n",
            "           9       0.00      0.00      0.00        92\n",
            "          10       0.80      0.05      0.09        83\n",
            "          11       0.00      0.00      0.00        27\n",
            "          12       0.00      0.00      0.00         9\n",
            "          13       0.54      0.99      0.70      1018\n",
            "\n",
            "    accuracy                           0.57      2071\n",
            "   macro avg       0.37      0.11      0.11      2071\n",
            "weighted avg       0.56      0.57      0.46      2071\n",
            "\n"
          ]
        },
        {
          "output_type": "stream",
          "name": "stderr",
          "text": [
            "/usr/local/lib/python3.9/dist-packages/sklearn/metrics/_classification.py:1344: UndefinedMetricWarning: Precision and F-score are ill-defined and being set to 0.0 in labels with no predicted samples. Use `zero_division` parameter to control this behavior.\n",
            "  _warn_prf(average, modifier, msg_start, len(result))\n",
            "/usr/local/lib/python3.9/dist-packages/sklearn/metrics/_classification.py:1344: UndefinedMetricWarning: Precision and F-score are ill-defined and being set to 0.0 in labels with no predicted samples. Use `zero_division` parameter to control this behavior.\n",
            "  _warn_prf(average, modifier, msg_start, len(result))\n",
            "/usr/local/lib/python3.9/dist-packages/sklearn/metrics/_classification.py:1344: UndefinedMetricWarning: Precision and F-score are ill-defined and being set to 0.0 in labels with no predicted samples. Use `zero_division` parameter to control this behavior.\n",
            "  _warn_prf(average, modifier, msg_start, len(result))\n"
          ]
        }
      ],
      "source": [
        "# Testing\n",
        "y_pred = clf.predict(x_test)\n",
        "cnf_matrix = confusion_matrix(y_test,y_pred)\n",
        "print(\"confusion matrix\\n\",cnf_matrix)\n",
        "print(\"*\"*20)\n",
        "accuracy = accuracy_score(y_test,y_pred)\n",
        "print(\"accuracy\",accuracy)\n",
        "print(\"*\"*20)\n",
        "clf_report = classification_report(y_test,y_pred)\n",
        "print(\"classificatio report\\n\",clf_report)"
      ]
    },
    {
      "cell_type": "code",
      "execution_count": null,
      "metadata": {
        "id": "HLoSN1lAo6Yy"
      },
      "outputs": [],
      "source": []
    },
    {
      "cell_type": "code",
      "execution_count": null,
      "metadata": {
        "id": "3Bz0LIgKo6Yy"
      },
      "outputs": [],
      "source": []
    }
  ],
  "metadata": {
    "kernelspec": {
      "display_name": "Python 3",
      "language": "python",
      "name": "python3"
    },
    "language_info": {
      "codemirror_mode": {
        "name": "ipython",
        "version": 3
      },
      "file_extension": ".py",
      "mimetype": "text/x-python",
      "name": "python",
      "nbconvert_exporter": "python",
      "pygments_lexer": "ipython3",
      "version": "3.8.5"
    },
    "colab": {
      "provenance": []
    }
  },
  "nbformat": 4,
  "nbformat_minor": 0
}